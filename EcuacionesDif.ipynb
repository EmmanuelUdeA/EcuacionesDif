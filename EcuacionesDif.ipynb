{
  "nbformat": 4,
  "nbformat_minor": 0,
  "metadata": {
    "colab": {
      "provenance": [],
      "authorship_tag": "ABX9TyNzC+r6QgWCRniYbRE7H6wE",
      "include_colab_link": true
    },
    "kernelspec": {
      "name": "python3",
      "display_name": "Python 3"
    },
    "language_info": {
      "name": "python"
    }
  },
  "cells": [
    {
      "cell_type": "markdown",
      "metadata": {
        "id": "view-in-github",
        "colab_type": "text"
      },
      "source": [
        "<a href=\"https://colab.research.google.com/github/EmmanuelUdeA/EcuacionesDif/blob/main/EcuacionesDif.ipynb\" target=\"_parent\"><img src=\"https://colab.research.google.com/assets/colab-badge.svg\" alt=\"Open In Colab\"/></a>"
      ]
    },
    {
      "cell_type": "code",
      "execution_count": null,
      "metadata": {
        "colab": {
          "base_uri": "https://localhost:8080/"
        },
        "id": "RsaQl-dNXHrW",
        "outputId": "76888da2-4a79-42c4-b77b-43c9e63439f3"
      },
      "outputs": [
        {
          "output_type": "stream",
          "name": "stdout",
          "text": [
            "Hola mundo MATERIA ECUACIONES DIFERENCIALES\n"
          ]
        }
      ],
      "source": [
        "print(\"Hola mundo MATERIA ECUACIONES DIFERENCIALES\")"
      ]
    },
    {
      "cell_type": "code",
      "source": [
        "import numpy as np\n",
        "import matplotlib.pyplot as plt\n",
        "import pandas as pd\n",
        "import sympy as sp\n"
      ],
      "metadata": {
        "id": "fdOdbuMsMPiL"
      },
      "execution_count": null,
      "outputs": []
    },
    {
      "cell_type": "code",
      "source": [
        "#Algorithm Descomposition LU\n",
        "def lu(A):\n",
        "\n",
        "    #Get number rows of A\n",
        "    n = A.shape[0]\n",
        "\n",
        "    #Generation U and L initials\n",
        "    U = A.copy()\n",
        "    L = np.eye(n, dtype=np.double)\n",
        "\n",
        "    #Initialization of loop\n",
        "    for i in range(n):\n",
        "        #For reduction factor\n",
        "        factor = U[i+1:, i] / U[i, i]\n",
        "        #Factor in position i+1, i\n",
        "        L[i+1:, i] = factor\n",
        "        #Multiplication of factor for row in U\n",
        "        U[i+1:]=U[i+1:]-factor[:, np.newaxis] * U[i]\n",
        "\n",
        "    return L, U\n",
        "\n",
        "def asus(L, b):\n",
        "\n",
        "    n = L.shape[0]\n",
        "    y = np.zeros_like(b, dtype=np.double);\n",
        "\n",
        "\n",
        "    y[0] = b[0] / L[0, 0]\n",
        "\n",
        "\n",
        "    for i in range(1, n):\n",
        "        y[i] = (b[i] - np.dot(L[i,:i], y[:i])) / L[i,i]\n",
        "\n",
        "    return y\n",
        "\n",
        "def rsus(U, y):\n",
        "\n",
        "\n",
        "    n = U.shape[0]\n",
        "    x = np.zeros_like(y, dtype=np.double)\n",
        "    x[-1] = y[-1] / U[-1, -1]\n",
        "\n",
        "    for i in range(n-2, -1,-1):\n",
        "        x[i] = (y[i] - np.dot(U[i,i:], x[i:])) / U[i,i]\n",
        "\n",
        "    return x\n",
        "\n",
        "\"\"\"Si se quiere resolver la ecuación $Ax=b$, usando las tres ecuaciones en un solo paso, se hace\"\"\"\n",
        "\n",
        "def lu_sol(A, b):\n",
        "\n",
        "    l, u = lu(A)\n",
        "    y = asus(l, b)\n",
        "    return rsus(u, y)\n",
        "\n",
        "A=np.array([[1,3,2],[-2,5,1], [4,12,5]])\n",
        "b=np.array([6,4,21])\n",
        "\n",
        "l,u=lu(A)\n",
        "y=asus(l,b)\n",
        "x=rsus(u,y)\n",
        "x\n",
        "\n",
        "lu_sol(A,b)\n",
        "\n",
        "A@x\n",
        "\n",
        "\"\"\"Factorización de Cholescky\"\"\"\n",
        "\n",
        "def cholesky(A):\n",
        "\n",
        "    n = A.shape[0]\n",
        "\n",
        "    L = np.zeros((n, n), dtype=np.double)\n",
        "\n",
        "    for k in range(n):\n",
        "\n",
        "        L[k, k] = np.sqrt(A[k, k] - np.sum(L[k, :] ** 2))\n",
        "\n",
        "        L[(k+1):, k] = (A[(k+1):, k] - L[(k+1):, :] @ L[k, :]) / L[k, k]\n",
        "\n",
        "    return L\n",
        "\n",
        "B=np.array([[1,-2,1], [-2,10,4], [1,4,9]])\n",
        "B\n",
        "\n",
        "lc=cholesky(B)\n",
        "lc@lc.T\n",
        "\n",
        "lc\n",
        "\n",
        "np.linalg.cholesky(B)\n",
        "\n",
        "lu(B)\n",
        "\n",
        "def lu_inverse(A):\n",
        "\n",
        "    n = A.shape[0]\n",
        "\n",
        "    b = np.eye(n)\n",
        "    Ainv = np.zeros((n, n))\n",
        "\n",
        "    L, U = lu(A)\n",
        "\n",
        "    for i in range(n):\n",
        "\n",
        "        y = asus(L, b[i])\n",
        "\n",
        "        Ainv[:, i] = rsus(U, y)\n",
        "\n",
        "    return Ainv\n",
        "\n",
        "np.round(lu_inverse(A),3)\n",
        "\n",
        "np.linalg.inv(A)\n",
        "\n",
        "A\n"
      ],
      "metadata": {
        "colab": {
          "base_uri": "https://localhost:8080/"
        },
        "id": "2JAme3SVS9dZ",
        "outputId": "5980981a-8ca2-47fc-befa-445de06d9f0b"
      },
      "execution_count": null,
      "outputs": [
        {
          "output_type": "execute_result",
          "data": {
            "text/plain": [
              "array([[ 1,  3,  2],\n",
              "       [-2,  5,  1],\n",
              "       [ 4, 12,  5]])"
            ]
          },
          "metadata": {},
          "execution_count": 6
        }
      ]
    },
    {
      "cell_type": "code",
      "source": [
        "def cholesky(A):\n",
        "\n",
        "    n = A.shape[0]\n",
        "\n",
        "    L = np.zeros((n, n), dtype=np.double)\n",
        "\n",
        "    for k in range(n):\n",
        "\n",
        "        L[k, k] = np.sqrt(A[k, k] - np.sum(L[k, :] ** 2))\n",
        "\n",
        "        L[(k+1):, k] = (A[(k+1):, k] - L[(k+1):, :] @ L[k, :]) / L[k, k]\n",
        "\n",
        "    return L\n",
        "\n",
        "A = np.array([[6,-1,-5],[-1,1,1],[-5,1,5]])\n",
        "A\n",
        "\n",
        "cholesky(A)\n",
        "\n"
      ],
      "metadata": {
        "colab": {
          "base_uri": "https://localhost:8080/"
        },
        "id": "n4Amc7pn4_sO",
        "outputId": "f3ca1c7c-7408-4b6d-84b2-32e027d3b318"
      },
      "execution_count": null,
      "outputs": [
        {
          "output_type": "execute_result",
          "data": {
            "text/plain": [
              "array([[ 2.44948974,  0.        ,  0.        ],\n",
              "       [-0.40824829,  0.91287093,  0.        ],\n",
              "       [-2.04124145,  0.18257419,  0.89442719]])"
            ]
          },
          "metadata": {},
          "execution_count": 5
        }
      ]
    },
    {
      "cell_type": "code",
      "source": [
        "A=np.array([[3, 5, -6, 7, 5],\n",
        "            [5, -5, -2, 3, 6],\n",
        "            [1, -3, 7, -5, 8],\n",
        "            [2, -1, 1, -4, -9],\n",
        "            [-7, -2, 8, -1, -1]])\n",
        "A\n",
        "\n",
        "B=np.array ([67,71,54,87,61])\n",
        "B\n",
        "\n",
        "lu(A)\n",
        "\n",
        "\n",
        "lu_sol(A,B)\n",
        "\n",
        "l,u=lu(A)\n",
        "y=asus(l,B)\n",
        "y\n"
      ],
      "metadata": {
        "colab": {
          "base_uri": "https://localhost:8080/"
        },
        "id": "Cc0xkWmcWnSD",
        "outputId": "59e9f077-454b-48d8-a227-7f83061b6a48"
      },
      "execution_count": null,
      "outputs": [
        {
          "output_type": "execute_result",
          "data": {
            "text/plain": [
              "array([ 67.        , -40.66666667,  44.17948718,  40.11965812,\n",
              "       309.53846154])"
            ]
          },
          "metadata": {},
          "execution_count": 7
        }
      ]
    },
    {
      "cell_type": "code",
      "source": [
        "\"\"\"#Método de Jacobi\"\"\"\n",
        "\n",
        "A=np.array([[7, 2, 4], [-3,9,5], [1,1,3]])\n",
        "b=np.array([13,11,5])\n",
        "sup=np.array([0,0,0])\n",
        "\n",
        "import math\n",
        "\n",
        "def jacobi(A,b,N=100,x=None):\n",
        "      it=0\n",
        "      if x is None:\n",
        "        x = np.zeros(len(A[0]))\n",
        "\n",
        "      D = np.diag(A)\n",
        "      R = A - np.diagflat(D)\n",
        "\n",
        "      for i in range(N):\n",
        "        x = (b - np.dot(R,x)) / D\n",
        "        it=it+1\n",
        "        print(it,x)\n",
        "\n",
        "\n",
        "\n",
        "def GS(A,b,N,x=None):\n",
        "      if x is None:\n",
        "        x = np.zeros(len(A[0]))\n",
        "      DL = np.tril(A)\n",
        "      U = np.triu(A)-np.diagflat(np.diag(A))\n",
        "      for i in range(N):\n",
        "          error1= x[0]\n",
        "          error2= x[1]\n",
        "          error3= x[2]\n",
        "          x = np.dot(np.linalg.inv(DL),(b - np.dot(U,x)))\n",
        "          errorX1= round(math.fabs((x[0]-error1)/x[0])*100, 2)\n",
        "          errorX2= round(math.fabs((x[1]-error2)/x[1])*100, 2)\n",
        "          errorX3= round(math.fabs((x[2]-error3)/x[2])*100, 2)\n",
        "          print(i+1, 'x11=', round(x[0], 7), 'x22=', round(x[1], 7), 'x33=',\n",
        "                round(x[2], 7), 'eX1=', errorX1, 'eX2=', errorX2, 'eX3=', errorX3)\n",
        "\n",
        "GS(A,b,20,sup)\n"
      ],
      "metadata": {
        "id": "pJQ96Ehrx8Eq",
        "outputId": "6741ffe7-4b89-41cb-81d5-596626efbb69",
        "colab": {
          "base_uri": "https://localhost:8080/"
        }
      },
      "execution_count": null,
      "outputs": [
        {
          "output_type": "stream",
          "name": "stdout",
          "text": [
            "1 x11= 1.8571429 x22= 1.8412698 x33= 0.4338624 eX1= 100.0 eX2= 100.0 eX3= 100.0\n",
            "2 x11= 1.0831444 x22= 1.3422357 x33= 0.8582067 eX1= 71.46 eX2= 37.18 eX3= 49.45\n",
            "3 x11= 0.9832432 x22= 1.0731885 x33= 0.9811895 eX1= 10.16 eX2= 25.07 eX3= 12.53\n",
            "4 x11= 0.9898379 x22= 1.0070629 x33= 1.0010331 eX1= 0.67 eX2= 6.57 eX3= 1.98\n",
            "5 x11= 0.9973917 x22= 0.9985566 x33= 1.0013506 eX1= 0.76 eX2= 0.85 eX3= 0.03\n",
            "6 x11= 0.9996406 x22= 0.9991299 x33= 1.0004098 eX1= 0.22 eX2= 0.06 eX3= 0.09\n",
            "7 x11= 1.0000144 x22= 0.9997771 x33= 1.0000695 eX1= 0.04 eX2= 0.06 eX3= 0.03\n",
            "8 x11= 1.000024 x22= 0.9999694 x33= 1.0000022 eX1= 0.0 eX2= 0.02 eX3= 0.01\n",
            "9 x11= 1.0000075 x22= 1.0000013 x33= 0.9999971 eX1= 0.0 eX2= 0.0 eX3= 0.0\n",
            "10 x11= 1.0000013 x22= 1.0000021 x33= 0.9999989 eX1= 0.0 eX2= 0.0 eX3= 0.0\n",
            "11 x11= 1.0000001 x22= 1.0000006 x33= 0.9999998 eX1= 0.0 eX2= 0.0 eX3= 0.0\n",
            "12 x11= 0.9999999 x22= 1.0000001 x33= 1.0 eX1= 0.0 eX2= 0.0 eX3= 0.0\n",
            "13 x11= 1.0 x22= 1.0 x33= 1.0 eX1= 0.0 eX2= 0.0 eX3= 0.0\n",
            "14 x11= 1.0 x22= 1.0 x33= 1.0 eX1= 0.0 eX2= 0.0 eX3= 0.0\n",
            "15 x11= 1.0 x22= 1.0 x33= 1.0 eX1= 0.0 eX2= 0.0 eX3= 0.0\n",
            "16 x11= 1.0 x22= 1.0 x33= 1.0 eX1= 0.0 eX2= 0.0 eX3= 0.0\n",
            "17 x11= 1.0 x22= 1.0 x33= 1.0 eX1= 0.0 eX2= 0.0 eX3= 0.0\n",
            "18 x11= 1.0 x22= 1.0 x33= 1.0 eX1= 0.0 eX2= 0.0 eX3= 0.0\n",
            "19 x11= 1.0 x22= 1.0 x33= 1.0 eX1= 0.0 eX2= 0.0 eX3= 0.0\n",
            "20 x11= 1.0 x22= 1.0 x33= 1.0 eX1= 0.0 eX2= 0.0 eX3= 0.0\n"
          ]
        }
      ]
    },
    {
      "cell_type": "code",
      "source": [
        "A = np.array([[5,3,-1],[-2,4,1],[2,-5,8]])\n",
        "A\n",
        "\n",
        "B = np.array([51,18,41])\n",
        "B\n",
        "\n",
        "sup = np.array([0,0,0])\n",
        "\n",
        "GS(A,B,20,sup)"
      ],
      "metadata": {
        "colab": {
          "base_uri": "https://localhost:8080/"
        },
        "id": "yLNl8fo75P-w",
        "outputId": "a2030bc5-b1e4-4068-e3dd-eb165a3979f9"
      },
      "execution_count": null,
      "outputs": [
        {
          "output_type": "stream",
          "name": "stdout",
          "text": [
            "1 x11= 10.2 x22= 9.6 x33= 8.575 eX1= 100.0 eX2= 100.0 eX3= 100.0\n",
            "2 x11= 6.155 x22= 5.43375 x33= 6.9823438 eX1= 65.72 eX2= 76.67 eX3= 22.81\n",
            "3 x11= 8.3362187 x22= 6.9225234 x33= 7.3675225 eX1= 26.17 eX2= 21.51 eX3= 5.23\n",
            "4 x11= 7.5199904 x22= 6.4181146 x33= 7.256324 eX1= 10.85 eX2= 7.86 eX3= 1.53\n",
            "5 x11= 7.800396 x22= 6.586117 x33= 7.2912241 eX1= 3.59 eX2= 2.55 eX3= 0.48\n",
            "6 x11= 7.7065746 x22= 6.5304813 x33= 7.2799071 eX1= 1.22 eX2= 0.85 eX3= 0.16\n",
            "7 x11= 7.7376927 x22= 6.5488695 x33= 7.2836203 eX1= 0.4 eX2= 0.28 eX3= 0.05\n",
            "8 x11= 7.7274023 x22= 6.5427961 x33= 7.282397 eX1= 0.13 eX2= 0.09 eX3= 0.02\n",
            "9 x11= 7.7308017 x22= 6.5448016 x33= 7.2828006 eX1= 0.04 eX2= 0.03 eX3= 0.01\n",
            "10 x11= 7.7296791 x22= 6.5441394 x33= 7.2826674 eX1= 0.01 eX2= 0.01 eX3= 0.0\n",
            "11 x11= 7.7300498 x22= 6.5443581 x33= 7.2827113 eX1= 0.0 eX2= 0.0 eX3= 0.0\n",
            "12 x11= 7.7299274 x22= 6.5442859 x33= 7.2826968 eX1= 0.0 eX2= 0.0 eX3= 0.0\n",
            "13 x11= 7.7299678 x22= 6.5443097 x33= 7.2827016 eX1= 0.0 eX2= 0.0 eX3= 0.0\n",
            "14 x11= 7.7299545 x22= 6.5443018 x33= 7.2827 eX1= 0.0 eX2= 0.0 eX3= 0.0\n",
            "15 x11= 7.7299589 x22= 6.5443044 x33= 7.2827006 eX1= 0.0 eX2= 0.0 eX3= 0.0\n",
            "16 x11= 7.7299574 x22= 6.5443036 x33= 7.2827004 eX1= 0.0 eX2= 0.0 eX3= 0.0\n",
            "17 x11= 7.7299579 x22= 6.5443039 x33= 7.2827004 eX1= 0.0 eX2= 0.0 eX3= 0.0\n",
            "18 x11= 7.7299578 x22= 6.5443038 x33= 7.2827004 eX1= 0.0 eX2= 0.0 eX3= 0.0\n",
            "19 x11= 7.7299578 x22= 6.5443038 x33= 7.2827004 eX1= 0.0 eX2= 0.0 eX3= 0.0\n",
            "20 x11= 7.7299578 x22= 6.5443038 x33= 7.2827004 eX1= 0.0 eX2= 0.0 eX3= 0.0\n"
          ]
        }
      ]
    },
    {
      "cell_type": "code",
      "source": [
        "from sympy import *\n",
        "\n",
        "from scipy.interpolate import lagrange\n",
        "\n",
        "x1 = np.array([-1,3,4,-2,5])\n",
        "y1 = np.array([2,4,-1,-2,3])\n",
        "poly = lagrange(x1, y1)\n",
        "\n",
        "poly\n",
        "\n",
        "x = np.linspace(-3,5,200)\n",
        "y = [np.polyval(poly, i) for i in x]\n",
        "plt.figure(figsize=(10,8))\n",
        "plt.scatter(x1,y1, color='r', label='initpoint')\n",
        "plt.title('Polynomial Lagrange')\n",
        "plt.axvline(0, color='g', ls='--')\n",
        "plt.axhline(0, color='g', ls='--')\n",
        "plt.plot(x,y,label='intLagPoly')\n",
        "plt.legend()\n",
        "plt.grid()\n",
        "plt.ylim(-15,15)\n",
        "plt.show()\n",
        "\n",
        "def lint(x, y, xi):\n",
        "\n",
        "    n = len(x)\n",
        "    if n != len(y):\n",
        "        raise ValueError(\"x and y must have the same length\")\n",
        "\n",
        "    # Compute the Lagrange basis polynomials\n",
        "    L = []\n",
        "    for j in range(n):\n",
        "        lj = 1.0\n",
        "        for m in range(n):\n",
        "            if m != j:\n",
        "                lj *= (xi - x[m])/(x[j] - x[m])\n",
        "        L.append(sp.expand(lj))\n",
        "\n",
        "\n",
        "    # Compute the Lagrange polynomial interpolation\n",
        "    p = 0.0\n",
        "    for j in range(n):\n",
        "        p += sp.expand(y[j]*L[j])\n",
        "\n",
        "    return p, L\n",
        "\n",
        "from sympy.plotting import plot\n",
        "from sympy.plotting.plot import MatplotlibBackend, Plot\n",
        "\n",
        "\n",
        "def get_sympy_subplots(plot:Plot):\n",
        "    backend = MatplotlibBackend(plot)\n",
        "\n",
        "    backend.process_series()\n",
        "    backend.fig.tight_layout()\n",
        "    return backend.fig, backend.ax[0]\n",
        "\n",
        "x=sp.symbols('x')\n",
        "poly1, L1=lint(x1,y1,x)\n",
        "\n",
        "L1\n",
        "\n",
        "poly1\n",
        "\n",
        "plot(poly1, xlim=(-5, 10), ylim=(-15,15), nb_of_points=1000, size=(10,8))\n",
        "\n",
        "# plot from backend\n",
        "fig, axe = get_sympy_subplots(p)\n",
        "# add additional plots\n",
        "axe.plot(x1, y1, \"o\", color='r')\n",
        "fig.savefig(\"plot_from_figure\")\n",
        "\n",
        "f=sp.exp(x)+3/x**2+0.0047\n",
        "f\n",
        "\n",
        "sp.plot(f, ylim=(-5,15))\n",
        "\n",
        "x2=np.random.uniform(-1,1,5)\n",
        "x2\n",
        "\n",
        "y2=np.array([f.subs(x,i) for i in x2])\n",
        "y2\n",
        "\n",
        "P,L=lint(x2,y2,x)\n",
        "P\n",
        "\n",
        "P1=plot(P, f, ylim=(-45,45), size=(8,8), show=False)\n",
        "P1[0].line_color = 'green'\n",
        "\n",
        "P1.show()\n",
        "\n",
        "fig, axe =get_sympy_subplots(P1)\n",
        "axe.plot(x2, y2, \"o\", color='r')\n"
      ],
      "metadata": {
        "id": "JyhRghK64lNL"
      },
      "execution_count": null,
      "outputs": []
    },
    {
      "cell_type": "code",
      "source": [
        "from scipy.interpolate import lagrange\n",
        "\n",
        "x1 = np.array([-1,2,0.5,6,9.5, 0.89481])\n",
        "y1 = np.array([5.71875, 0.88581,12.607, 0.08628, 0.03379, 4.15597])\n",
        "poly = lagrange(x1, y1)\n",
        "\n",
        "poly\n",
        "\n",
        "x = np.linspace(-3,10,200)\n",
        "y = [np.polyval(poly, i) for i in x]\n",
        "plt.figure(figsize=(10,8))\n",
        "plt.scatter(x1,y1, color='r', label='initpoint')\n",
        "plt.title('Polynomial Lagrange')\n",
        "plt.axvline(0, color='g', ls='--')\n",
        "plt.axhline(0, color='g', ls='--')\n",
        "plt.plot(x,y,label='intLagPoly')\n",
        "plt.legend()\n",
        "plt.ylim(-75,75)\n",
        "plt.show()"
      ],
      "metadata": {
        "id": "7r-964ke48r4"
      },
      "execution_count": null,
      "outputs": []
    },
    {
      "cell_type": "code",
      "source": [
        "import numpy as np\n",
        "\n",
        "def rk4_method(f, x0, y0, h, x_target):\n",
        "    x = x0\n",
        "    y = y0\n",
        "\n",
        "    while x < x_target:\n",
        "        k1 = h * f(x, y)\n",
        "        k2 = h * f(x + 0.5 * h, y + 0.5 * k1)\n",
        "        k3 = h * f(x + 0.5 * h, y + 0.5 * k2)\n",
        "        k4 = h * f(x + h, y + k3)\n",
        "\n",
        "        y += (k1 + 2 * k2 + 2 * k3 + k4) / 6\n",
        "        x += h\n",
        "\n",
        "    return y\n",
        "\n",
        "def f(x, y):\n",
        "    return (3 * y + 2 * x * y) / (x**2)\n",
        "\n",
        "x0 = 1\n",
        "y0 = 1/2\n",
        "h = 0.1\n",
        "x_target = 3.1\n",
        "\n",
        "y_target = rk4_method(f, x0, y0, h, x_target)\n",
        "print(\"El valor de y(3.1) utilizando RK4 con h = 0.1 es:\", y_target)"
      ],
      "metadata": {
        "colab": {
          "base_uri": "https://localhost:8080/"
        },
        "id": "IzaNJ0n3W2Ye",
        "outputId": "0f9a86ba-cda2-4515-9811-c9ce18e0b3d6"
      },
      "execution_count": null,
      "outputs": [
        {
          "output_type": "stream",
          "name": "stdout",
          "text": [
            "El valor de y(3.1) utilizando RK4 con h = 0.1 es: 36.65835505519604\n"
          ]
        }
      ]
    }
  ]
}